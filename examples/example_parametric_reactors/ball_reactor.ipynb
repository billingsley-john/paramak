{
 "cells": [
  {
   "cell_type": "code",
   "execution_count": null,
   "metadata": {},
   "outputs": [],
   "source": [
    "import paramak\n",
    "\n",
    "my_reactor = paramak.BallReactor(\n",
    "    inner_bore_radial_thickness=10,\n",
    "    inboard_tf_leg_radial_thickness=30,\n",
    "    center_column_shield_radial_thickness=60,\n",
    "    divertor_radial_thickness=150,\n",
    "    inner_plasma_gap_radial_thickness=30,\n",
    "    plasma_radial_thickness=300,\n",
    "    outer_plasma_gap_radial_thickness=30,\n",
    "    firstwall_radial_thickness=30,\n",
    "    blanket_radial_thickness=50,\n",
    "    blanket_rear_wall_radial_thickness=30,\n",
    "    elongation=2,\n",
    "    triangularity=0.55,\n",
    "    number_of_tf_coils=16,\n",
    "    rotation_angle=180,\n",
    "    pf_coil_radial_thicknesses=[50, 50, 50, 20],\n",
    "    pf_coil_vertical_thicknesses=[50, 50, 50, 20],\n",
    "    pf_coil_radial_position=[560, 600, 500, 200],\n",
    "    pf_coil_vertical_position=[0, 200, -200, -400],\n",
    "    rear_blanket_to_tf_gap=50,\n",
    "    outboard_tf_coil_radial_thickness=100,\n",
    "    outboard_tf_coil_poloidal_thickness=50\n",
    ")\n",
    "\n",
    "my_reactor.show()"
   ]
  },
  {
   "cell_type": "code",
   "execution_count": null,
   "metadata": {},
   "outputs": [],
   "source": [
    "from pathlib import Path\n",
    "\n",
    "output_folder='BallReactor'\n",
    "\n",
    "my_reactor.export_stp(output_folder=output_folder)\n",
    "\n",
    "my_reactor.export_neutronics_description(Path(output_folder) / 'manifest.json')\n",
    "\n",
    "my_reactor.export_svg(Path(output_folder) / 'reactor.svg')\n",
    "\n",
    "my_reactor.export_stl(output_folder=output_folder)\n",
    "\n",
    "my_reactor.export_html(Path(output_folder) / 'reactor.html')"
   ]
  },
  {
   "cell_type": "code",
   "execution_count": null,
   "metadata": {},
   "outputs": [],
   "source": []
  }
 ],
 "metadata": {
  "kernelspec": {
   "display_name": "Python 3",
   "language": "python",
   "name": "python3"
  },
  "language_info": {
   "codemirror_mode": {
    "name": "ipython",
    "version": 3
   },
   "file_extension": ".py",
   "mimetype": "text/x-python",
   "name": "python",
   "nbconvert_exporter": "python",
   "pygments_lexer": "ipython3",
   "version": "3.8.3"
  }
 },
 "nbformat": 4,
 "nbformat_minor": 4
}

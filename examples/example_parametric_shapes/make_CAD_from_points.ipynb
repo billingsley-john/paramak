{
 "cells": [
  {
   "cell_type": "markdown",
   "metadata": {},
   "source": [
    "This python script demonstrates the creation of 3D volumes from points using extrude and rotate methods"
   ]
  },
  {
   "cell_type": "code",
   "execution_count": 1,
   "metadata": {},
   "outputs": [
    {
     "name": "stdout",
     "output_type": "stream",
     "text": [
      "Overwriting auto display for cadquery Workplane and Shape\n"
     ]
    },
    {
     "data": {
      "application/vnd.jupyter.widget-view+json": {
       "model_id": "ec4048033c5d4a8ebb8df20abb9a71b5",
       "version_major": 2,
       "version_minor": 0
      },
      "text/plain": [
       "HBox(children=(VBox(children=(HBox(children=(Checkbox(value=False, description='Axes', indent=False, _dom_clas…"
      ]
     },
     "metadata": {},
     "output_type": "display_data"
    },
    {
     "data": {
      "text/plain": [
       "<jupyter_cadquery.cad_display.CadqueryDisplay at 0x7f51b7978a00>"
      ]
     },
     "execution_count": 1,
     "metadata": {},
     "output_type": "execute_result"
    }
   ],
   "source": [
    "import paramak\n",
    "\n",
    "rotated_straights = paramak.RotateStraightShape(\n",
    "    points=[\n",
    "        (400, 100),\n",
    "        (400, 200),\n",
    "        (600, 200),\n",
    "        (600, 100)\n",
    "           ],\n",
    "    rotation_angle = 180\n",
    ")\n",
    "\n",
    "rotated_straights.show"
   ]
  },
  {
   "cell_type": "code",
   "execution_count": 2,
   "metadata": {},
   "outputs": [
    {
     "data": {
      "application/vnd.jupyter.widget-view+json": {
       "model_id": "ec3f9402a50b4debb1abb870f4a4c40e",
       "version_major": 2,
       "version_minor": 0
      },
      "text/plain": [
       "HBox(children=(VBox(children=(HBox(children=(Checkbox(value=False, description='Axes', indent=False, _dom_clas…"
      ]
     },
     "metadata": {},
     "output_type": "display_data"
    },
    {
     "data": {
      "text/plain": [
       "<jupyter_cadquery.cad_display.CadqueryDisplay at 0x7f51b78f4c70>"
      ]
     },
     "execution_count": 2,
     "metadata": {},
     "output_type": "execute_result"
    }
   ],
   "source": [
    "rotated_spline = paramak.RotateSplineShape(\n",
    "    points=[\n",
    "       (500, 0),\n",
    "       (500, -20),\n",
    "       (400, -300),\n",
    "       (300, -300),\n",
    "       (400, 0),\n",
    "       (300, 300),\n",
    "       (400, 300),\n",
    "       (500, 20),\n",
    "      ],\n",
    "rotation_angle = 180\n",
    ")\n",
    "\n",
    "rotated_spline.show"
   ]
  },
  {
   "cell_type": "code",
   "execution_count": 3,
   "metadata": {},
   "outputs": [
    {
     "data": {
      "application/vnd.jupyter.widget-view+json": {
       "model_id": "90631b99e5a84f6dac74e527f8ec1bd8",
       "version_major": 2,
       "version_minor": 0
      },
      "text/plain": [
       "HBox(children=(VBox(children=(HBox(children=(Checkbox(value=False, description='Axes', indent=False, _dom_clas…"
      ]
     },
     "metadata": {},
     "output_type": "display_data"
    },
    {
     "data": {
      "text/plain": [
       "<jupyter_cadquery.cad_display.CadqueryDisplay at 0x7f51b78561c0>"
      ]
     },
     "execution_count": 3,
     "metadata": {},
     "output_type": "execute_result"
    }
   ],
   "source": [
    "rotated_mixed = paramak.RotateMixedShape(\n",
    "    points=[\n",
    "        (100, 0, 'straight'),\n",
    "        (200, 0, 'circle'),\n",
    "        (250, 50, 'circle'),\n",
    "        (200, 100, 'straight'),\n",
    "        (150, 100, 'spline'),\n",
    "        (140, 75, 'spline'),\n",
    "        (110, 45, 'spline'),\n",
    "    ],\n",
    "    rotation_angle = 180\n",
    ")\n",
    "\n",
    "rotated_mixed.show"
   ]
  },
  {
   "cell_type": "markdown",
   "metadata": {},
   "source": [
    "This makes a circular shape and rotates it to make a solid"
   ]
  },
  {
   "cell_type": "code",
   "execution_count": 4,
   "metadata": {},
   "outputs": [
    {
     "data": {
      "application/vnd.jupyter.widget-view+json": {
       "model_id": "2c04a3950197400ebfcc8dc553c1bcac",
       "version_major": 2,
       "version_minor": 0
      },
      "text/plain": [
       "HBox(children=(VBox(children=(HBox(children=(Checkbox(value=False, description='Axes', indent=False, _dom_clas…"
      ]
     },
     "metadata": {},
     "output_type": "display_data"
    },
    {
     "data": {
      "text/plain": [
       "<jupyter_cadquery.cad_display.CadqueryDisplay at 0x7f51b7948d00>"
      ]
     },
     "execution_count": 4,
     "metadata": {},
     "output_type": "execute_result"
    }
   ],
   "source": [
    "rotated_circle = paramak.RotateCircleShape(\n",
    "    points=[(50, 0)],\n",
    "    radius=5,\n",
    "    rotation_angle=180\n",
    ")\n",
    "\n",
    "rotated_circle.show"
   ]
  },
  {
   "cell_type": "code",
   "execution_count": 5,
   "metadata": {},
   "outputs": [
    {
     "data": {
      "application/vnd.jupyter.widget-view+json": {
       "model_id": "bdb705b60b8944e2921f5746c49f6efa",
       "version_major": 2,
       "version_minor": 0
      },
      "text/plain": [
       "HBox(children=(VBox(children=(HBox(children=(Checkbox(value=False, description='Axes', indent=False, _dom_clas…"
      ]
     },
     "metadata": {},
     "output_type": "display_data"
    },
    {
     "data": {
      "text/plain": [
       "<jupyter_cadquery.cad_display.CadqueryDisplay at 0x7f51b76a5d30>"
      ]
     },
     "execution_count": 5,
     "metadata": {},
     "output_type": "execute_result"
    }
   ],
   "source": [
    "rotated_circle = paramak.ExtrudeCircleShape(\n",
    "    points=[(50, 0)],\n",
    "    radius=5,\n",
    "    distance=15\n",
    ")\n",
    "\n",
    "rotated_circle.show"
   ]
  },
  {
   "cell_type": "markdown",
   "metadata": {},
   "source": [
    "This makes a banana shape with straight edges and extrudes it to make a solid"
   ]
  },
  {
   "cell_type": "code",
   "execution_count": 6,
   "metadata": {},
   "outputs": [
    {
     "data": {
      "application/vnd.jupyter.widget-view+json": {
       "model_id": "1aac11e7c86b4c8d8733bdbcacfbcd7c",
       "version_major": 2,
       "version_minor": 0
      },
      "text/plain": [
       "HBox(children=(VBox(children=(HBox(children=(Checkbox(value=False, description='Axes', indent=False, _dom_clas…"
      ]
     },
     "metadata": {},
     "output_type": "display_data"
    },
    {
     "data": {
      "text/plain": [
       "<jupyter_cadquery.cad_display.CadqueryDisplay at 0x7f51b7856820>"
      ]
     },
     "execution_count": 6,
     "metadata": {},
     "output_type": "execute_result"
    }
   ],
   "source": [
    "extruded_straight = paramak.ExtrudeStraightShape(\n",
    "    points=[\n",
    "         (300, -300),\n",
    "         (400, 0),\n",
    "         (300, 300),\n",
    "         (400, 300),\n",
    "         (500, 0),\n",
    "         (400, -300),\n",
    "        ],\n",
    "    distance=200\n",
    ")\n",
    "\n",
    "extruded_straight.show"
   ]
  },
  {
   "cell_type": "markdown",
   "metadata": {},
   "source": [
    "This makes a banana shape and rotates it to make a solid"
   ]
  },
  {
   "cell_type": "code",
   "execution_count": 7,
   "metadata": {},
   "outputs": [
    {
     "data": {
      "application/vnd.jupyter.widget-view+json": {
       "model_id": "ac7678770e6a4abb9d514514e628b14b",
       "version_major": 2,
       "version_minor": 0
      },
      "text/plain": [
       "HBox(children=(VBox(children=(HBox(children=(Checkbox(value=False, description='Axes', indent=False, _dom_clas…"
      ]
     },
     "metadata": {},
     "output_type": "display_data"
    },
    {
     "data": {
      "text/plain": [
       "<jupyter_cadquery.cad_display.CadqueryDisplay at 0x7f51b77a4280>"
      ]
     },
     "execution_count": 7,
     "metadata": {},
     "output_type": "execute_result"
    }
   ],
   "source": [
    "extruded_spline = paramak.ExtrudeSplineShape(\n",
    "    points=[\n",
    "         (500, 0),\n",
    "         (500, -20),\n",
    "         (400, -300),\n",
    "         (300, -300),\n",
    "         (400, 0),\n",
    "         (300, 300),\n",
    "         (400, 300),\n",
    "         (500, 20),\n",
    "        ],\n",
    " distance=200,\n",
    ")\n",
    "\n",
    "extruded_spline.show"
   ]
  },
  {
   "cell_type": "markdown",
   "metadata": {},
   "source": [
    "This makes a shape with straight, circular and spline edges and extrudes it to make a solid"
   ]
  },
  {
   "cell_type": "code",
   "execution_count": 8,
   "metadata": {},
   "outputs": [
    {
     "data": {
      "application/vnd.jupyter.widget-view+json": {
       "model_id": "8740f9047a57483d867a0a6031108163",
       "version_major": 2,
       "version_minor": 0
      },
      "text/plain": [
       "HBox(children=(VBox(children=(HBox(children=(Checkbox(value=False, description='Axes', indent=False, _dom_clas…"
      ]
     },
     "metadata": {},
     "output_type": "display_data"
    },
    {
     "data": {
      "text/plain": [
       "<jupyter_cadquery.cad_display.CadqueryDisplay at 0x7f51b77da1c0>"
      ]
     },
     "execution_count": 8,
     "metadata": {},
     "output_type": "execute_result"
    }
   ],
   "source": [
    "extruded_mixed = paramak.ExtrudeMixedShape(\n",
    "    points=[\n",
    "        (100, 0, 'straight'),\n",
    "        (200, 0, 'circle'),\n",
    "        (250, 50, 'circle'),\n",
    "        (200, 100, 'straight'),\n",
    "        (150, 100, 'spline'),\n",
    "        (140, 75, 'spline'),\n",
    "        (110, 45, 'spline'),\n",
    "      ],\n",
    "    distance=200\n",
    ")\n",
    "\n",
    "extruded_mixed.show"
   ]
  },
  {
   "cell_type": "code",
   "execution_count": null,
   "metadata": {},
   "outputs": [],
   "source": []
  }
 ],
 "metadata": {
  "kernelspec": {
   "display_name": "Python 3",
   "language": "python",
   "name": "python3"
  },
  "language_info": {
   "codemirror_mode": {
    "name": "ipython",
    "version": 3
   },
   "file_extension": ".py",
   "mimetype": "text/x-python",
   "name": "python",
   "nbconvert_exporter": "python",
   "pygments_lexer": "ipython3",
   "version": "3.8.3"
  }
 },
 "nbformat": 4,
 "nbformat_minor": 4
}

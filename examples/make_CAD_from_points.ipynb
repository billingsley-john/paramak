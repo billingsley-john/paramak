{
 "cells": [
  {
   "cell_type": "markdown",
   "metadata": {},
   "source": [
    "This python script demonstrates the creation of 3D volumes from points using extrude and rotate methods"
   ]
  },
  {
   "cell_type": "code",
   "execution_count": null,
   "metadata": {},
   "outputs": [],
   "source": [
    "from paramak import RotateStraightShape\n",
    "\n",
    "rotated_straights = RotateStraightShape(points=[\n",
    "                                                (400, 100),\n",
    "                                                (400, 200),\n",
    "                                                (600, 200),\n",
    "                                                (600, 100)\n",
    "                                               ],\n",
    "                                        rotation_angle = 180\n",
    "                                    )\n",
    "\n",
    "rotated_straights.solid"
   ]
  },
  {
   "cell_type": "code",
   "execution_count": null,
   "metadata": {},
   "outputs": [],
   "source": [
    "from paramak import RotateSplineShape\n",
    "\n",
    "rotated_spline = RotateSplineShape(points=[\n",
    "                                           (500, 0),\n",
    "                                           (500, -20),\n",
    "                                           (400, -300),\n",
    "                                           (300, -300),\n",
    "                                           (400, 0),\n",
    "                                           (300, 300),\n",
    "                                           (400, 300),\n",
    "                                           (500, 20),\n",
    "                                          ],\n",
    "                                   rotation_angle = 180\n",
    ")\n",
    "\n",
    "rotated_spline.solid"
   ]
  },
  {
   "cell_type": "code",
   "execution_count": null,
   "metadata": {},
   "outputs": [],
   "source": [
    "from paramak import RotateMixedShape\n",
    "\n",
    "rotated_mixed = RotateMixedShape(\n",
    "    points=[\n",
    "        (100, 0, 'straight'),\n",
    "        (200, 0, 'circle'),\n",
    "        (250, 50, 'circle'),\n",
    "        (200, 100, 'straight'),\n",
    "        (150, 100, 'spline'),\n",
    "        (140, 75, 'spline'),\n",
    "        (110, 45, 'spline'),\n",
    "    ],\n",
    "    rotation_angle = 180\n",
    ")\n",
    "\n",
    "rotated_mixed.solid"
   ]
  },
  {
   "cell_type": "markdown",
   "metadata": {},
   "source": [
    "This makes a circular shape and rotates it to make a solid"
   ]
  },
  {
   "cell_type": "code",
   "execution_count": null,
   "metadata": {},
   "outputs": [],
   "source": [
    "from paramak import RotateCircleShape\n",
    "\n",
    "rotated_circle = RotateCircleShape(points=[(50, 0)],\n",
    "                                   radius=5,\n",
    "                                   rotation_angle=180\n",
    "                                  )\n",
    "\n",
    "rotated_circle.solid"
   ]
  },
  {
   "cell_type": "code",
   "execution_count": null,
   "metadata": {},
   "outputs": [],
   "source": [
    "from paramak import ExtrudeCircleShape\n",
    "\n",
    "rotated_circle = ExtrudeCircleShape(points=[(50, 0)],\n",
    "                                    radius=5,\n",
    "                                    distance=15\n",
    "                                   )\n",
    "\n",
    "rotated_circle.solid"
   ]
  },
  {
   "cell_type": "markdown",
   "metadata": {},
   "source": [
    "This makes a banana shape with straight edges and extrudes it to make a solid"
   ]
  },
  {
   "cell_type": "code",
   "execution_count": null,
   "metadata": {},
   "outputs": [],
   "source": [
    "from paramak import ExtrudeStraightShape\n",
    "\n",
    "extruded_straight = ExtrudeStraightShape(points=[\n",
    "                                                 (300, -300),\n",
    "                                                 (400, 0),\n",
    "                                                 (300, 300),\n",
    "                                                 (400, 300),\n",
    "                                                 (500, 0),\n",
    "                                                 (400, -300),\n",
    "                                                ],\n",
    "                                            distance=200\n",
    ")\n",
    "extruded_straight.solid"
   ]
  },
  {
   "cell_type": "markdown",
   "metadata": {},
   "source": [
    "This makes a banana shape and rotates it to make a solid"
   ]
  },
  {
   "cell_type": "code",
   "execution_count": null,
   "metadata": {},
   "outputs": [],
   "source": [
    "from paramak import ExtrudeSplineShape\n",
    "\n",
    "extruded_spline = ExtrudeSplineShape(points=[\n",
    "                                             (500, 0),\n",
    "                                             (500, -20),\n",
    "                                             (400, -300),\n",
    "                                             (300, -300),\n",
    "                                             (400, 0),\n",
    "                                             (300, 300),\n",
    "                                             (400, 300),\n",
    "                                             (500, 20),\n",
    "                                            ],\n",
    "                                     distance=200,\n",
    "                                    )\n",
    "\n",
    "extruded_spline.solid"
   ]
  },
  {
   "cell_type": "markdown",
   "metadata": {},
   "source": [
    "This makes a banana shape straight top and bottom edges and extrudes it to make a solid"
   ]
  },
  {
   "cell_type": "code",
   "execution_count": null,
   "metadata": {},
   "outputs": [],
   "source": [
    "from paramak import ExtrudeMixedShape\n",
    "\n",
    "extruded_mixed = ExtrudeMixedShape(points=[\n",
    "                                            (100, 0, 'straight'),\n",
    "                                            (200, 0, 'circle'),\n",
    "                                            (250, 50, 'circle'),\n",
    "                                            (200, 100, 'straight'),\n",
    "                                            (150, 100, 'spline'),\n",
    "                                            (140, 75, 'spline'),\n",
    "                                            (110, 45, 'spline'),\n",
    "                                          ],\n",
    "                                    distance=200\n",
    ")\n",
    "\n",
    "extruded_mixed.solid"
   ]
  },
  {
   "cell_type": "code",
   "execution_count": null,
   "metadata": {},
   "outputs": [],
   "source": []
  }
 ],
 "metadata": {
  "kernelspec": {
   "display_name": "Python 3",
   "language": "python",
   "name": "python3"
  },
  "language_info": {
   "codemirror_mode": {
    "name": "ipython",
    "version": 3
   },
   "file_extension": ".py",
   "mimetype": "text/x-python",
   "name": "python",
   "nbconvert_exporter": "python",
   "pygments_lexer": "ipython3",
   "version": "3.7.3"
  }
 },
 "nbformat": 4,
 "nbformat_minor": 4
}

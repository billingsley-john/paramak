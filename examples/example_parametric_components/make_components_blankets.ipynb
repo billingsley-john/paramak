{
 "cells": [
  {
   "cell_type": "code",
   "execution_count": null,
   "metadata": {},
   "outputs": [],
   "source": [
    "import paramak\n",
    "\n",
    "rot_angle = 90\n",
    "\n",
    "plasma = paramak.Plasma(\n",
    "    # default parameters\n",
    "    rotation_angle=rot_angle,\n",
    "    stp_filename=\"plasma_shape.stp\",\n",
    ")\n",
    "plasma.show()\n",
    "\n",
    "component = paramak.BlanketFP(\n",
    "    plasma=plasma,\n",
    "    thickness=100,\n",
    "    stop_angle=90,\n",
    "    start_angle=-90,\n",
    "    offset_from_plasma=30,\n",
    "    rotation_angle=rot_angle,\n",
    "    stp_filename=\"blanket_constant_thickness_outboard_plasma.stp\",\n",
    ")\n",
    "\n",
    "component.show()"
   ]
  },
  {
   "cell_type": "code",
   "execution_count": null,
   "metadata": {},
   "outputs": [],
   "source": [
    "component = paramak.BlanketCutterStar(\n",
    "    height=2000,\n",
    "    width=2000,\n",
    "    distance=100\n",
    ")\n",
    "\n",
    "component.show()"
   ]
  },
  {
   "cell_type": "code",
   "execution_count": null,
   "metadata": {},
   "outputs": [],
   "source": [
    "component = paramak.BlanketFP(\n",
    "    plasma=plasma,\n",
    "    thickness=100,\n",
    "    stop_angle=90,\n",
    "    start_angle=250,\n",
    "    offset_from_plasma=30,\n",
    "    rotation_angle=rot_angle,\n",
    "    stp_filename=\"blanket_constant_thickness_inboard_plasma.stp\",\n",
    ")\n",
    "\n",
    "component.show()"
   ]
  },
  {
   "cell_type": "code",
   "execution_count": null,
   "metadata": {},
   "outputs": [],
   "source": [
    "component = paramak.BlanketFP(\n",
    "    plasma=plasma,\n",
    "    thickness=100,\n",
    "    stop_angle=250,\n",
    "    start_angle=-90,\n",
    "    offset_from_plasma=30,\n",
    "    rotation_angle=rot_angle,\n",
    "    stp_filename=\"blanket_constant_thickness_plasma.stp\",\n",
    ")\n",
    "\n",
    "component.show()"
   ]
  },
  {
   "cell_type": "code",
   "execution_count": null,
   "metadata": {},
   "outputs": [],
   "source": [
    "component = paramak.BlanketConstantThicknessArcH(\n",
    "    inner_lower_point=(300, -200),\n",
    "    inner_mid_point=(400, 0),\n",
    "    inner_upper_point=(300, 200),\n",
    "    thickness=100,\n",
    "    rotation_angle=rot_angle,\n",
    "    stp_filename=\"blanket_arc_h.stp\",\n",
    ")\n",
    "\n",
    "component.show()"
   ]
  },
  {
   "cell_type": "code",
   "execution_count": null,
   "metadata": {},
   "outputs": [],
   "source": [
    "component = paramak.BlanketConstantThicknessArcV(\n",
    "    inner_lower_point=(300, -200),\n",
    "    inner_mid_point=(500, 0),\n",
    "    inner_upper_point=(300, 200),\n",
    "    thickness=100,\n",
    "    rotation_angle=rot_angle,\n",
    "    stp_filename=\"blanket_arc_v.stp\",\n",
    ")\n",
    "\n",
    "component.show()"
   ]
  },
  {
   "cell_type": "code",
   "execution_count": null,
   "metadata": {},
   "outputs": [],
   "source": []
  }
 ],
 "metadata": {
  "kernelspec": {
   "display_name": "Python 3",
   "language": "python",
   "name": "python3"
  },
  "language_info": {
   "codemirror_mode": {
    "name": "ipython",
    "version": 3
   },
   "file_extension": ".py",
   "mimetype": "text/x-python",
   "name": "python",
   "nbconvert_exporter": "python",
   "pygments_lexer": "ipython3",
   "version": "3.8.3"
  }
 },
 "nbformat": 4,
 "nbformat_minor": 4
}
